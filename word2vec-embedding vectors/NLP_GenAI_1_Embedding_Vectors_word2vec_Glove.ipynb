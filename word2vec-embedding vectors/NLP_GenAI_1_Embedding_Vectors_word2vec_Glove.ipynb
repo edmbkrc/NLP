{
  "nbformat": 4,
  "nbformat_minor": 0,
  "metadata": {
    "colab": {
      "provenance": []
    },
    "kernelspec": {
      "name": "python3",
      "display_name": "Python 3"
    },
    "language_info": {
      "name": "python"
    }
  },
  "cells": [
    {
      "cell_type": "markdown",
      "source": [
        "## WORD EMBEDDING"
      ],
      "metadata": {
        "id": "x_iGtrpsoYr2"
      }
    },
    {
      "cell_type": "markdown",
      "source": [
        "Word embedding, bir kelime veya ifadenin düz bir vektör olarak ifade edilmesidir. Bu vektörler, kelimelerin arasındaki benzerlikleri yansıtmak üzere model tarfından öğrenilir. Bu sayede, yapay zeka modelleri kelimeler arasındaki ilişkileri daha iyi anlayabilir\n",
        "\n",
        "Word embedding, metin verileri kullanılarak öğrenilir. Örneğin, bir metin corpus'u (büyük metin veritabanı) kullanılarak, her kelime için çevresindeki kelimeler ile ilişkisini öğrenir. Bu ilişki, kelime ve çevresindeki kelimeler arasındaki co-occurrence (ortak görünüm) frekansı olarak tanımlanır. Daha sonra, bu co-occurrence verileri kullanarak, her kelime için bir vektör oluşturulur. Bu vektörler, kelimelerin anlamları arasındaki benzerlikleri yansıtmak üzere tasarlanır.\n",
        "\n",
        "Örneğin, \"öğretmen\", \"öğrenci\", \"not verme\" kelimeleri sıklıkla aynı metinlerde görülür ve benzer anlamlar taşır, bu nedenle oluşan vektörleri birbirine yakın olacak. Ancak \"öğretmen\" ve \"portakal\" kelimeleri sıklıkla aynı metinlerde görülmez ve farklı anlamlar taşır, bu nedenle oluşan vektörleri birbirinden uzak olacak."
      ],
      "metadata": {
        "id": "pDiZZ6JQoeXq"
      }
    },
    {
      "cell_type": "markdown",
      "source": [
        "Word embedding is the expression of a word or phrase as a flat vector. These vectors are learned by the model to reflect similarities between words. In this way, AI models can better understand the relationships between words\n",
        "\n",
        "Word embedding is learned using text data. For example, using a text corpus (large text database), it learns for each word its relationship with the words around it. This relationship is defined as the co-occurrence frequency between the word and its surrounding words. Then, using this co-occurrence data, a vector is created for each word. These vectors are designed to reflect the similarities between the meanings of the words.\n",
        "\n",
        "For example, the words \"teacher\", \"student\", \"grading\" often appear in the same texts and have similar meanings, so their resulting vectors will be close to each other. However, the words \"teacher\" and \"orange\" do not often appear in the same texts and have different meanings, so their vectors will be far apart.\n"
      ],
      "metadata": {
        "id": "LopMlL90okuE"
      }
    },
    {
      "cell_type": "markdown",
      "source": [
        "## Word2Vec"
      ],
      "metadata": {
        "id": "Kq9fF7K6pQn6"
      }
    },
    {
      "cell_type": "code",
      "source": [
        "!pip install gensim\n",
        "!conda install -c conda-forge gensim"
      ],
      "metadata": {
        "colab": {
          "base_uri": "https://localhost:8080/"
        },
        "id": "LEsl9MbfocQa",
        "outputId": "b663f8bc-732a-4e77-df82-68a75e9fc5d0"
      },
      "execution_count": 2,
      "outputs": [
        {
          "output_type": "stream",
          "name": "stdout",
          "text": [
            "Requirement already satisfied: gensim in /usr/local/lib/python3.10/dist-packages (4.3.2)\n",
            "Requirement already satisfied: numpy>=1.18.5 in /usr/local/lib/python3.10/dist-packages (from gensim) (1.25.2)\n",
            "Requirement already satisfied: scipy>=1.7.0 in /usr/local/lib/python3.10/dist-packages (from gensim) (1.11.4)\n",
            "Requirement already satisfied: smart-open>=1.8.1 in /usr/local/lib/python3.10/dist-packages (from gensim) (7.0.4)\n",
            "Requirement already satisfied: wrapt in /usr/local/lib/python3.10/dist-packages (from smart-open>=1.8.1->gensim) (1.14.1)\n",
            "/bin/bash: line 1: conda: command not found\n"
          ]
        }
      ]
    },
    {
      "cell_type": "code",
      "source": [
        "from google.colab import drive\n",
        "drive.mount(\"/content/drive\")"
      ],
      "metadata": {
        "colab": {
          "base_uri": "https://localhost:8080/"
        },
        "id": "k6UQqyE7pX92",
        "outputId": "e7ecf5b9-5c9d-4a29-c9c4-917cbfab69c7"
      },
      "execution_count": 3,
      "outputs": [
        {
          "output_type": "stream",
          "name": "stdout",
          "text": [
            "Mounted at /content/drive\n"
          ]
        }
      ]
    },
    {
      "cell_type": "code",
      "source": [
        "from nltk.tokenize import word_tokenize\n",
        "import pandas as pd\n",
        "from gensim.models import Word2Vec\n",
        "import nltk"
      ],
      "metadata": {
        "id": "GNtnqMrNqRJ4"
      },
      "execution_count": 4,
      "outputs": []
    },
    {
      "cell_type": "code",
      "source": [
        "nltk.download('punkt')\n",
        "nltk.download('stopwords')\n",
        "nltk.download('wordnet')\n",
        "nltk.download('omw-1.4')"
      ],
      "metadata": {
        "colab": {
          "base_uri": "https://localhost:8080/"
        },
        "id": "4TR-RjJ-qxcR",
        "outputId": "6b675c2f-b276-4f46-e0a2-e2f86b85e6c1"
      },
      "execution_count": 5,
      "outputs": [
        {
          "output_type": "stream",
          "name": "stderr",
          "text": [
            "[nltk_data] Downloading package punkt to /root/nltk_data...\n",
            "[nltk_data]   Unzipping tokenizers/punkt.zip.\n",
            "[nltk_data] Downloading package stopwords to /root/nltk_data...\n",
            "[nltk_data]   Unzipping corpora/stopwords.zip.\n",
            "[nltk_data] Downloading package wordnet to /root/nltk_data...\n",
            "[nltk_data] Downloading package omw-1.4 to /root/nltk_data...\n"
          ]
        },
        {
          "output_type": "execute_result",
          "data": {
            "text/plain": [
              "True"
            ]
          },
          "metadata": {},
          "execution_count": 5
        }
      ]
    },
    {
      "cell_type": "code",
      "source": [
        "df = pd.read_csv(\"/content/drive/MyDrive/GENAI-LLM/1-newspaper.zip\", names = [\"news\"])\n",
        "df\n",
        "# pandas'ın read_csv fonksiyonu zip'li dosyaları da okuyabiliyor.\n",
        "# ziplediğimiz data(corpus) txt dosyası olduğundan dosyada belirlenmiş feature ismi/isimleri yoktur. Bu sebeple\n",
        "# feature isimlendirmesi için names parametresini kullanıyoruz.\n",
        "# names parametresi kullanılmaz ise ilk satırdaki text default olarak feature names olarak atanır.\n",
        "\n",
        "# pandas' read_csv function can also read zip files.\n",
        "# Since the data (corpus) we zip is a txt file, there are no feature name(s) specified in the file. For this reason\n",
        "# we use the names parameter for feature naming.\n",
        "# If the names parameter is not used, the text in the first line is assigned as feature names by default."
      ],
      "metadata": {
        "colab": {
          "base_uri": "https://localhost:8080/",
          "height": 423
        },
        "id": "zpdSLYYGrJ-z",
        "outputId": "84c56973-e2fc-4418-9986-523b8a41a656"
      },
      "execution_count": 7,
      "outputs": [
        {
          "output_type": "execute_result",
          "data": {
            "text/plain": [
              "                                                     news\n",
              "0       iran devlet televizyonu ülkedeki eyaletin sind...\n",
              "1       gösterilerde fitnecilere ölüm münafıklara ölüm...\n",
              "2       dini lider ali hamaney ve cumhurbaşkanı mahmud...\n",
              "3         musevi ye ölüm ve idam idam sloganları duyuldu \n",
              "4       muhalefet liderleri kaçtı mı aşure günü yaşana...\n",
              "...                                                   ...\n",
              "411520  dışişleri bakanlığı ndan yapılan yazılı açıkla...\n",
              "411521  açıklamada abd nin ankara büyükelçiliği ve ist...\n",
              "411522  seyahat uyarısı güncelleme kararının temmuz da...\n",
              "411523  amerikalı turistlerin açıkça türkiye deki ulus...\n",
              "411524  abd dışişleri bakanlığı seyahat uyarısı açıkla...\n",
              "\n",
              "[411525 rows x 1 columns]"
            ],
            "text/html": [
              "\n",
              "  <div id=\"df-bf346bf2-e7c9-4fb1-91e0-d31ae621beda\" class=\"colab-df-container\">\n",
              "    <div>\n",
              "<style scoped>\n",
              "    .dataframe tbody tr th:only-of-type {\n",
              "        vertical-align: middle;\n",
              "    }\n",
              "\n",
              "    .dataframe tbody tr th {\n",
              "        vertical-align: top;\n",
              "    }\n",
              "\n",
              "    .dataframe thead th {\n",
              "        text-align: right;\n",
              "    }\n",
              "</style>\n",
              "<table border=\"1\" class=\"dataframe\">\n",
              "  <thead>\n",
              "    <tr style=\"text-align: right;\">\n",
              "      <th></th>\n",
              "      <th>news</th>\n",
              "    </tr>\n",
              "  </thead>\n",
              "  <tbody>\n",
              "    <tr>\n",
              "      <th>0</th>\n",
              "      <td>iran devlet televizyonu ülkedeki eyaletin sind...</td>\n",
              "    </tr>\n",
              "    <tr>\n",
              "      <th>1</th>\n",
              "      <td>gösterilerde fitnecilere ölüm münafıklara ölüm...</td>\n",
              "    </tr>\n",
              "    <tr>\n",
              "      <th>2</th>\n",
              "      <td>dini lider ali hamaney ve cumhurbaşkanı mahmud...</td>\n",
              "    </tr>\n",
              "    <tr>\n",
              "      <th>3</th>\n",
              "      <td>musevi ye ölüm ve idam idam sloganları duyuldu</td>\n",
              "    </tr>\n",
              "    <tr>\n",
              "      <th>4</th>\n",
              "      <td>muhalefet liderleri kaçtı mı aşure günü yaşana...</td>\n",
              "    </tr>\n",
              "    <tr>\n",
              "      <th>...</th>\n",
              "      <td>...</td>\n",
              "    </tr>\n",
              "    <tr>\n",
              "      <th>411520</th>\n",
              "      <td>dışişleri bakanlığı ndan yapılan yazılı açıkla...</td>\n",
              "    </tr>\n",
              "    <tr>\n",
              "      <th>411521</th>\n",
              "      <td>açıklamada abd nin ankara büyükelçiliği ve ist...</td>\n",
              "    </tr>\n",
              "    <tr>\n",
              "      <th>411522</th>\n",
              "      <td>seyahat uyarısı güncelleme kararının temmuz da...</td>\n",
              "    </tr>\n",
              "    <tr>\n",
              "      <th>411523</th>\n",
              "      <td>amerikalı turistlerin açıkça türkiye deki ulus...</td>\n",
              "    </tr>\n",
              "    <tr>\n",
              "      <th>411524</th>\n",
              "      <td>abd dışişleri bakanlığı seyahat uyarısı açıkla...</td>\n",
              "    </tr>\n",
              "  </tbody>\n",
              "</table>\n",
              "<p>411525 rows × 1 columns</p>\n",
              "</div>\n",
              "    <div class=\"colab-df-buttons\">\n",
              "\n",
              "  <div class=\"colab-df-container\">\n",
              "    <button class=\"colab-df-convert\" onclick=\"convertToInteractive('df-bf346bf2-e7c9-4fb1-91e0-d31ae621beda')\"\n",
              "            title=\"Convert this dataframe to an interactive table.\"\n",
              "            style=\"display:none;\">\n",
              "\n",
              "  <svg xmlns=\"http://www.w3.org/2000/svg\" height=\"24px\" viewBox=\"0 -960 960 960\">\n",
              "    <path d=\"M120-120v-720h720v720H120Zm60-500h600v-160H180v160Zm220 220h160v-160H400v160Zm0 220h160v-160H400v160ZM180-400h160v-160H180v160Zm440 0h160v-160H620v160ZM180-180h160v-160H180v160Zm440 0h160v-160H620v160Z\"/>\n",
              "  </svg>\n",
              "    </button>\n",
              "\n",
              "  <style>\n",
              "    .colab-df-container {\n",
              "      display:flex;\n",
              "      gap: 12px;\n",
              "    }\n",
              "\n",
              "    .colab-df-convert {\n",
              "      background-color: #E8F0FE;\n",
              "      border: none;\n",
              "      border-radius: 50%;\n",
              "      cursor: pointer;\n",
              "      display: none;\n",
              "      fill: #1967D2;\n",
              "      height: 32px;\n",
              "      padding: 0 0 0 0;\n",
              "      width: 32px;\n",
              "    }\n",
              "\n",
              "    .colab-df-convert:hover {\n",
              "      background-color: #E2EBFA;\n",
              "      box-shadow: 0px 1px 2px rgba(60, 64, 67, 0.3), 0px 1px 3px 1px rgba(60, 64, 67, 0.15);\n",
              "      fill: #174EA6;\n",
              "    }\n",
              "\n",
              "    .colab-df-buttons div {\n",
              "      margin-bottom: 4px;\n",
              "    }\n",
              "\n",
              "    [theme=dark] .colab-df-convert {\n",
              "      background-color: #3B4455;\n",
              "      fill: #D2E3FC;\n",
              "    }\n",
              "\n",
              "    [theme=dark] .colab-df-convert:hover {\n",
              "      background-color: #434B5C;\n",
              "      box-shadow: 0px 1px 3px 1px rgba(0, 0, 0, 0.15);\n",
              "      filter: drop-shadow(0px 1px 2px rgba(0, 0, 0, 0.3));\n",
              "      fill: #FFFFFF;\n",
              "    }\n",
              "  </style>\n",
              "\n",
              "    <script>\n",
              "      const buttonEl =\n",
              "        document.querySelector('#df-bf346bf2-e7c9-4fb1-91e0-d31ae621beda button.colab-df-convert');\n",
              "      buttonEl.style.display =\n",
              "        google.colab.kernel.accessAllowed ? 'block' : 'none';\n",
              "\n",
              "      async function convertToInteractive(key) {\n",
              "        const element = document.querySelector('#df-bf346bf2-e7c9-4fb1-91e0-d31ae621beda');\n",
              "        const dataTable =\n",
              "          await google.colab.kernel.invokeFunction('convertToInteractive',\n",
              "                                                    [key], {});\n",
              "        if (!dataTable) return;\n",
              "\n",
              "        const docLinkHtml = 'Like what you see? Visit the ' +\n",
              "          '<a target=\"_blank\" href=https://colab.research.google.com/notebooks/data_table.ipynb>data table notebook</a>'\n",
              "          + ' to learn more about interactive tables.';\n",
              "        element.innerHTML = '';\n",
              "        dataTable['output_type'] = 'display_data';\n",
              "        await google.colab.output.renderOutput(dataTable, element);\n",
              "        const docLink = document.createElement('div');\n",
              "        docLink.innerHTML = docLinkHtml;\n",
              "        element.appendChild(docLink);\n",
              "      }\n",
              "    </script>\n",
              "  </div>\n",
              "\n",
              "\n",
              "<div id=\"df-7cc3fd2e-ac54-4b5b-8379-21481feeb6bf\">\n",
              "  <button class=\"colab-df-quickchart\" onclick=\"quickchart('df-7cc3fd2e-ac54-4b5b-8379-21481feeb6bf')\"\n",
              "            title=\"Suggest charts\"\n",
              "            style=\"display:none;\">\n",
              "\n",
              "<svg xmlns=\"http://www.w3.org/2000/svg\" height=\"24px\"viewBox=\"0 0 24 24\"\n",
              "     width=\"24px\">\n",
              "    <g>\n",
              "        <path d=\"M19 3H5c-1.1 0-2 .9-2 2v14c0 1.1.9 2 2 2h14c1.1 0 2-.9 2-2V5c0-1.1-.9-2-2-2zM9 17H7v-7h2v7zm4 0h-2V7h2v10zm4 0h-2v-4h2v4z\"/>\n",
              "    </g>\n",
              "</svg>\n",
              "  </button>\n",
              "\n",
              "<style>\n",
              "  .colab-df-quickchart {\n",
              "      --bg-color: #E8F0FE;\n",
              "      --fill-color: #1967D2;\n",
              "      --hover-bg-color: #E2EBFA;\n",
              "      --hover-fill-color: #174EA6;\n",
              "      --disabled-fill-color: #AAA;\n",
              "      --disabled-bg-color: #DDD;\n",
              "  }\n",
              "\n",
              "  [theme=dark] .colab-df-quickchart {\n",
              "      --bg-color: #3B4455;\n",
              "      --fill-color: #D2E3FC;\n",
              "      --hover-bg-color: #434B5C;\n",
              "      --hover-fill-color: #FFFFFF;\n",
              "      --disabled-bg-color: #3B4455;\n",
              "      --disabled-fill-color: #666;\n",
              "  }\n",
              "\n",
              "  .colab-df-quickchart {\n",
              "    background-color: var(--bg-color);\n",
              "    border: none;\n",
              "    border-radius: 50%;\n",
              "    cursor: pointer;\n",
              "    display: none;\n",
              "    fill: var(--fill-color);\n",
              "    height: 32px;\n",
              "    padding: 0;\n",
              "    width: 32px;\n",
              "  }\n",
              "\n",
              "  .colab-df-quickchart:hover {\n",
              "    background-color: var(--hover-bg-color);\n",
              "    box-shadow: 0 1px 2px rgba(60, 64, 67, 0.3), 0 1px 3px 1px rgba(60, 64, 67, 0.15);\n",
              "    fill: var(--button-hover-fill-color);\n",
              "  }\n",
              "\n",
              "  .colab-df-quickchart-complete:disabled,\n",
              "  .colab-df-quickchart-complete:disabled:hover {\n",
              "    background-color: var(--disabled-bg-color);\n",
              "    fill: var(--disabled-fill-color);\n",
              "    box-shadow: none;\n",
              "  }\n",
              "\n",
              "  .colab-df-spinner {\n",
              "    border: 2px solid var(--fill-color);\n",
              "    border-color: transparent;\n",
              "    border-bottom-color: var(--fill-color);\n",
              "    animation:\n",
              "      spin 1s steps(1) infinite;\n",
              "  }\n",
              "\n",
              "  @keyframes spin {\n",
              "    0% {\n",
              "      border-color: transparent;\n",
              "      border-bottom-color: var(--fill-color);\n",
              "      border-left-color: var(--fill-color);\n",
              "    }\n",
              "    20% {\n",
              "      border-color: transparent;\n",
              "      border-left-color: var(--fill-color);\n",
              "      border-top-color: var(--fill-color);\n",
              "    }\n",
              "    30% {\n",
              "      border-color: transparent;\n",
              "      border-left-color: var(--fill-color);\n",
              "      border-top-color: var(--fill-color);\n",
              "      border-right-color: var(--fill-color);\n",
              "    }\n",
              "    40% {\n",
              "      border-color: transparent;\n",
              "      border-right-color: var(--fill-color);\n",
              "      border-top-color: var(--fill-color);\n",
              "    }\n",
              "    60% {\n",
              "      border-color: transparent;\n",
              "      border-right-color: var(--fill-color);\n",
              "    }\n",
              "    80% {\n",
              "      border-color: transparent;\n",
              "      border-right-color: var(--fill-color);\n",
              "      border-bottom-color: var(--fill-color);\n",
              "    }\n",
              "    90% {\n",
              "      border-color: transparent;\n",
              "      border-bottom-color: var(--fill-color);\n",
              "    }\n",
              "  }\n",
              "</style>\n",
              "\n",
              "  <script>\n",
              "    async function quickchart(key) {\n",
              "      const quickchartButtonEl =\n",
              "        document.querySelector('#' + key + ' button');\n",
              "      quickchartButtonEl.disabled = true;  // To prevent multiple clicks.\n",
              "      quickchartButtonEl.classList.add('colab-df-spinner');\n",
              "      try {\n",
              "        const charts = await google.colab.kernel.invokeFunction(\n",
              "            'suggestCharts', [key], {});\n",
              "      } catch (error) {\n",
              "        console.error('Error during call to suggestCharts:', error);\n",
              "      }\n",
              "      quickchartButtonEl.classList.remove('colab-df-spinner');\n",
              "      quickchartButtonEl.classList.add('colab-df-quickchart-complete');\n",
              "    }\n",
              "    (() => {\n",
              "      let quickchartButtonEl =\n",
              "        document.querySelector('#df-7cc3fd2e-ac54-4b5b-8379-21481feeb6bf button');\n",
              "      quickchartButtonEl.style.display =\n",
              "        google.colab.kernel.accessAllowed ? 'block' : 'none';\n",
              "    })();\n",
              "  </script>\n",
              "</div>\n",
              "\n",
              "  <div id=\"id_d09ada77-f68d-460a-af91-1649e9577d40\">\n",
              "    <style>\n",
              "      .colab-df-generate {\n",
              "        background-color: #E8F0FE;\n",
              "        border: none;\n",
              "        border-radius: 50%;\n",
              "        cursor: pointer;\n",
              "        display: none;\n",
              "        fill: #1967D2;\n",
              "        height: 32px;\n",
              "        padding: 0 0 0 0;\n",
              "        width: 32px;\n",
              "      }\n",
              "\n",
              "      .colab-df-generate:hover {\n",
              "        background-color: #E2EBFA;\n",
              "        box-shadow: 0px 1px 2px rgba(60, 64, 67, 0.3), 0px 1px 3px 1px rgba(60, 64, 67, 0.15);\n",
              "        fill: #174EA6;\n",
              "      }\n",
              "\n",
              "      [theme=dark] .colab-df-generate {\n",
              "        background-color: #3B4455;\n",
              "        fill: #D2E3FC;\n",
              "      }\n",
              "\n",
              "      [theme=dark] .colab-df-generate:hover {\n",
              "        background-color: #434B5C;\n",
              "        box-shadow: 0px 1px 3px 1px rgba(0, 0, 0, 0.15);\n",
              "        filter: drop-shadow(0px 1px 2px rgba(0, 0, 0, 0.3));\n",
              "        fill: #FFFFFF;\n",
              "      }\n",
              "    </style>\n",
              "    <button class=\"colab-df-generate\" onclick=\"generateWithVariable('df')\"\n",
              "            title=\"Generate code using this dataframe.\"\n",
              "            style=\"display:none;\">\n",
              "\n",
              "  <svg xmlns=\"http://www.w3.org/2000/svg\" height=\"24px\"viewBox=\"0 0 24 24\"\n",
              "       width=\"24px\">\n",
              "    <path d=\"M7,19H8.4L18.45,9,17,7.55,7,17.6ZM5,21V16.75L18.45,3.32a2,2,0,0,1,2.83,0l1.4,1.43a1.91,1.91,0,0,1,.58,1.4,1.91,1.91,0,0,1-.58,1.4L9.25,21ZM18.45,9,17,7.55Zm-12,3A5.31,5.31,0,0,0,4.9,8.1,5.31,5.31,0,0,0,1,6.5,5.31,5.31,0,0,0,4.9,4.9,5.31,5.31,0,0,0,6.5,1,5.31,5.31,0,0,0,8.1,4.9,5.31,5.31,0,0,0,12,6.5,5.46,5.46,0,0,0,6.5,12Z\"/>\n",
              "  </svg>\n",
              "    </button>\n",
              "    <script>\n",
              "      (() => {\n",
              "      const buttonEl =\n",
              "        document.querySelector('#id_d09ada77-f68d-460a-af91-1649e9577d40 button.colab-df-generate');\n",
              "      buttonEl.style.display =\n",
              "        google.colab.kernel.accessAllowed ? 'block' : 'none';\n",
              "\n",
              "      buttonEl.onclick = () => {\n",
              "        google.colab.notebook.generateWithVariable('df');\n",
              "      }\n",
              "      })();\n",
              "    </script>\n",
              "  </div>\n",
              "\n",
              "    </div>\n",
              "  </div>\n"
            ],
            "application/vnd.google.colaboratory.intrinsic+json": {
              "type": "dataframe",
              "variable_name": "df"
            }
          },
          "metadata": {},
          "execution_count": 7
        }
      ]
    },
    {
      "cell_type": "code",
      "source": [
        "df[\"news\"][0]"
      ],
      "metadata": {
        "colab": {
          "base_uri": "https://localhost:8080/",
          "height": 35
        },
        "id": "JZDbpJ1wrtqy",
        "outputId": "b8780115-0212-4e92-90a6-44a75208c524"
      },
      "execution_count": 8,
      "outputs": [
        {
          "output_type": "execute_result",
          "data": {
            "text/plain": [
              "'iran devlet televizyonu ülkedeki eyaletin sinde yapılan reformcuları protesto amaçlı yürüyüşlere milyonlarca kişinin katıldığını bildirdi '"
            ],
            "application/vnd.google.colaboratory.intrinsic+json": {
              "type": "string"
            }
          },
          "metadata": {},
          "execution_count": 8
        }
      ]
    },
    {
      "cell_type": "code",
      "source": [
        "word_tokenize(df[\"news\"][0])"
      ],
      "metadata": {
        "colab": {
          "base_uri": "https://localhost:8080/"
        },
        "id": "8G0OnFKzr-zM",
        "outputId": "30542c6d-62c3-48c5-ac3d-af713f51239e"
      },
      "execution_count": 9,
      "outputs": [
        {
          "output_type": "execute_result",
          "data": {
            "text/plain": [
              "['iran',\n",
              " 'devlet',\n",
              " 'televizyonu',\n",
              " 'ülkedeki',\n",
              " 'eyaletin',\n",
              " 'sinde',\n",
              " 'yapılan',\n",
              " 'reformcuları',\n",
              " 'protesto',\n",
              " 'amaçlı',\n",
              " 'yürüyüşlere',\n",
              " 'milyonlarca',\n",
              " 'kişinin',\n",
              " 'katıldığını',\n",
              " 'bildirdi']"
            ]
          },
          "metadata": {},
          "execution_count": 9
        }
      ]
    },
    {
      "cell_type": "code",
      "source": [
        "%%time\n",
        "corpus = [word_tokenize(i) for i in df.news]\n",
        "corpus[:5]\n",
        "\n",
        "# word2vec algoritması tüm corpusun 2 boyutlu olmasını ister. Bu sebeple burdaki for döngüsü ile tüm documnetleri/satırları\n",
        "# teker teker çekip word tokenlerine ayırıyoruz. Word_tokenize fonksiyonu default olarak texti word tokenlerine ayırıp bir\n",
        "# listeye atar.\n",
        "\n",
        "# word2vec algorithm wants the whole corpus to be 2-dimensional. For this reason, the for loop here is used to move all documnets/rows\n",
        "# one by one we extract and split it into word tokens. By default, the word_tokenize function will split the text into word tokens and create a\n",
        "# assigns to the list."
      ],
      "metadata": {
        "colab": {
          "base_uri": "https://localhost:8080/"
        },
        "id": "7NPKX6EusLiT",
        "outputId": "ff3b8db4-4f8d-4eb5-8d21-028e139a0801"
      },
      "execution_count": 10,
      "outputs": [
        {
          "output_type": "stream",
          "name": "stdout",
          "text": [
            "CPU times: user 47.3 s, sys: 1.19 s, total: 48.5 s\n",
            "Wall time: 48.8 s\n"
          ]
        },
        {
          "output_type": "execute_result",
          "data": {
            "text/plain": [
              "[['iran',\n",
              "  'devlet',\n",
              "  'televizyonu',\n",
              "  'ülkedeki',\n",
              "  'eyaletin',\n",
              "  'sinde',\n",
              "  'yapılan',\n",
              "  'reformcuları',\n",
              "  'protesto',\n",
              "  'amaçlı',\n",
              "  'yürüyüşlere',\n",
              "  'milyonlarca',\n",
              "  'kişinin',\n",
              "  'katıldığını',\n",
              "  'bildirdi'],\n",
              " ['gösterilerde',\n",
              "  'fitnecilere',\n",
              "  'ölüm',\n",
              "  'münafıklara',\n",
              "  'ölüm',\n",
              "  'abd',\n",
              "  'ye',\n",
              "  'ölüm',\n",
              "  'ingiltere',\n",
              "  'ye',\n",
              "  'ölüm',\n",
              "  'sloganları',\n",
              "  'atıldı'],\n",
              " ['dini',\n",
              "  'lider',\n",
              "  'ali',\n",
              "  'hamaney',\n",
              "  've',\n",
              "  'cumhurbaşkanı',\n",
              "  'mahmud',\n",
              "  'ahmedinejad',\n",
              "  'ı',\n",
              "  'destekleyen',\n",
              "  'iranlılar',\n",
              "  'son',\n",
              "  'olaylarda',\n",
              "  'yeğeni',\n",
              "  'öldürülen',\n",
              "  'mir',\n",
              "  'hüseyin',\n",
              "  'musevi',\n",
              "  'başta',\n",
              "  'olmak',\n",
              "  'üzere',\n",
              "  'muhalefet',\n",
              "  'liderlerini',\n",
              "  'kınadılar'],\n",
              " ['musevi', 'ye', 'ölüm', 've', 'idam', 'idam', 'sloganları', 'duyuldu'],\n",
              " ['muhalefet',\n",
              "  'liderleri',\n",
              "  'kaçtı',\n",
              "  'mı',\n",
              "  'aşure',\n",
              "  'günü',\n",
              "  'yaşanan',\n",
              "  'çatışmalarda',\n",
              "  'devlet',\n",
              "  'kaynaklarına',\n",
              "  'göre',\n",
              "  'u',\n",
              "  'terörist',\n",
              "  'olmak',\n",
              "  'üzere',\n",
              "  'kişi',\n",
              "  'ölmüştü']]"
            ]
          },
          "metadata": {},
          "execution_count": 10
        }
      ]
    },
    {
      "cell_type": "code",
      "source": [
        "from gensim.utils import effective_n_jobs\n",
        "\n",
        "effective_n_jobs(-1)\n",
        "\n",
        "# bilgisayarınızdaki eğitim için kullanabileceğiniz max çekirdek sayısını gösterir.\n",
        "\n",
        "# indicates the maximum number of cores on your computer that you can use for training."
      ],
      "metadata": {
        "colab": {
          "base_uri": "https://localhost:8080/"
        },
        "id": "7asaEUEMsLlT",
        "outputId": "adc67c81-4de1-4416-b8d1-1c0034ba8747"
      },
      "execution_count": 11,
      "outputs": [
        {
          "output_type": "execute_result",
          "data": {
            "text/plain": [
              "2"
            ]
          },
          "metadata": {},
          "execution_count": 11
        }
      ]
    },
    {
      "cell_type": "code",
      "source": [
        "%%time\n",
        "model = Word2Vec(sentences=corpus,\n",
        "                 alpha = 0.025,\n",
        "                 vector_size=100,\n",
        "                 window=5,\n",
        "                 min_count=5,\n",
        "                 sg=1,\n",
        "                 workers=effective_n_jobs(-1))\n",
        "\n",
        "# vector_size, kaç boyutlu word embeddings istiyorsak burda belirtiyoruz.\n",
        "# Bir token ile diğer tokenler arasındaki anlamsal ilişkiler kurulurken bu tokenin kaç önce ve sonrasındaki tokenler dikkate\n",
        "# alınarak eğitim yapılmasını istiyorsak window parametresinde belirtiyoruz. Tavsiye edilen 5-15 sayıları arasındadır.\n",
        "# min_count, corpusta 5 veya daha az geçen tokenler eğitime dahil edilmez. Genellikle 3,4,5 gibi sayılar tercih edilir.\n",
        "# sg =1, eğitimi skipgram algoritması ile yap.\n",
        "# sg =0, eğitimi CBOW algoritması ile yap.\n",
        "# alpha= learning rate\n",
        "# workers=eğitim için kullanacağımız çekirdek sayısı\n",
        "\n",
        "# vector_size, this is where we specify how big word embeddings we want.\n",
        "# How many tokens before and after this token are taken into account when establishing semantic relationships between a token and other tokens\n",
        "#If we want training to be done by taking #, we specify it in the window parameter. The recommended number is between 5 and 15.\n",
        "# min_count, tokens with 5 or less occurrences in the corpus are not included in the training. Usually numbers like 3,4,5 are preferred.\n",
        "# sg =1, train with the skipgram algorithm.\n",
        "# sg =0, train with the CBOW algorithm.\n",
        "# alpha= learning rate\n",
        "# workers=number of cores we will use for training"
      ],
      "metadata": {
        "colab": {
          "base_uri": "https://localhost:8080/"
        },
        "id": "irgeQ1LtsLoV",
        "outputId": "44ec23e9-0be5-4e6b-a30c-45e16cb3d037"
      },
      "execution_count": 12,
      "outputs": [
        {
          "output_type": "stream",
          "name": "stdout",
          "text": [
            "CPU times: user 4min 13s, sys: 591 ms, total: 4min 13s\n",
            "Wall time: 2min 27s\n"
          ]
        }
      ]
    },
    {
      "cell_type": "code",
      "source": [
        "model.wv[\"ankara\"]\n",
        "# 100 dimensional embedding"
      ],
      "metadata": {
        "colab": {
          "base_uri": "https://localhost:8080/"
        },
        "id": "EPWwpB9Gv2h3",
        "outputId": "db426323-c912-4852-f98d-842272e83358"
      },
      "execution_count": 14,
      "outputs": [
        {
          "output_type": "execute_result",
          "data": {
            "text/plain": [
              "array([-0.25360307,  0.17129561,  0.21035098, -0.28426895,  0.18265857,\n",
              "       -0.13061622,  0.02302907,  0.6592007 , -0.0346442 , -0.4234017 ,\n",
              "       -0.03688671, -0.79144675, -0.3616798 , -0.0837153 ,  0.3591176 ,\n",
              "        0.83387154, -0.11217764, -0.1617908 ,  0.04854663, -0.8709855 ,\n",
              "       -0.08347872,  0.3056215 ,  0.61448663, -0.15683088, -0.0477133 ,\n",
              "        0.00139448, -0.5077969 , -0.21343146, -0.43329436,  0.5994757 ,\n",
              "        0.1043253 ,  0.2690264 ,  0.34605277, -0.6958436 , -0.63511366,\n",
              "        0.14641045,  0.00553049, -0.39908174,  0.14620541, -0.4240781 ,\n",
              "        0.4499629 , -0.3137366 ,  0.2717869 , -0.14113232,  0.12160922,\n",
              "        0.2284008 ,  0.24139762,  0.43867907,  0.9304602 , -0.40677062,\n",
              "        0.24344718, -0.03503416, -0.36749497,  0.10100814,  0.02326082,\n",
              "        0.09739173, -0.02570247, -0.2005627 , -0.7117016 , -0.37779856,\n",
              "       -0.1885886 , -0.4132531 , -0.4471867 ,  0.1387265 , -0.10640043,\n",
              "        0.04094469,  0.17849249,  0.3200195 , -0.14587991,  0.07008265,\n",
              "       -0.10783678, -0.24640997,  0.35939518, -0.16321239, -0.00498186,\n",
              "        0.0183359 ,  0.09001552, -0.23038346, -0.04011246, -0.20874524,\n",
              "        0.04110656, -0.5760657 , -0.03959757,  0.13881962,  0.44096246,\n",
              "        0.05329349,  0.31020176,  0.36243716,  0.5342882 ,  0.25225836,\n",
              "        0.40934354,  0.5625909 ,  0.33809766,  0.16220683,  0.2943705 ,\n",
              "       -0.1639181 , -0.04753107, -0.14021751, -0.02836503, -0.24254003],\n",
              "      dtype=float32)"
            ]
          },
          "metadata": {},
          "execution_count": 14
        }
      ]
    },
    {
      "cell_type": "code",
      "source": [
        "model.wv[\"samsun\"]"
      ],
      "metadata": {
        "colab": {
          "base_uri": "https://localhost:8080/"
        },
        "id": "P_sWMNauwpSC",
        "outputId": "bafd65bb-24f3-40fd-81e9-13dcf1c513c7"
      },
      "execution_count": 15,
      "outputs": [
        {
          "output_type": "execute_result",
          "data": {
            "text/plain": [
              "array([ 0.05255378,  0.67348343,  0.2497672 ,  0.13191013,  0.83440435,\n",
              "       -0.32427406, -0.23677447,  0.5764318 , -0.02900703, -0.3899129 ,\n",
              "       -0.274988  , -0.5490962 , -0.01908151, -0.1998273 , -0.18440627,\n",
              "        0.13001922,  0.06715295,  0.01359755,  0.40654567, -0.22683196,\n",
              "       -0.2864634 , -0.0646713 ,  0.2162586 ,  0.08157401, -0.18199024,\n",
              "        0.02622105, -0.24293707,  0.178381  ,  0.00515397, -0.15520248,\n",
              "        0.288516  ,  0.3179472 , -0.06007677, -0.07640858, -0.04764662,\n",
              "        0.02105106,  0.40260366, -0.38674825,  0.2692952 , -0.5200416 ,\n",
              "        0.19467278,  0.29974222, -0.11514972, -0.22157474, -0.08033751,\n",
              "        0.18747471, -0.07634086,  0.16254126,  0.27312928, -0.19211324,\n",
              "        0.11683851, -0.2533463 ,  0.06130785, -0.4435415 , -0.50288403,\n",
              "        0.2723357 ,  0.10435537, -0.32310498, -0.4679537 , -0.25654337,\n",
              "        0.01915246,  0.35852036, -0.42791283,  0.5652649 ,  0.18045887,\n",
              "       -0.18742143,  0.29123142, -0.01906335, -0.1696915 ,  0.53403604,\n",
              "       -0.46583477,  0.25078884,  0.5876633 , -0.3650052 , -0.04683822,\n",
              "        0.37112573,  0.20893098, -0.17155604, -0.17676117,  0.19909565,\n",
              "       -0.0068392 , -0.20123732,  0.02224663,  0.29263905,  0.1431614 ,\n",
              "        0.33089218,  0.0999151 ,  0.13231373,  0.41199464,  0.11740726,\n",
              "        0.1675145 ,  0.00187298,  0.3646154 , -0.0778048 ,  0.3863081 ,\n",
              "        0.12466422, -0.12301453, -0.34213048,  0.29402003,  0.12426643],\n",
              "      dtype=float32)"
            ]
          },
          "metadata": {},
          "execution_count": 15
        }
      ]
    },
    {
      "cell_type": "code",
      "source": [
        "model.wv[\"atakum\"]"
      ],
      "metadata": {
        "colab": {
          "base_uri": "https://localhost:8080/",
          "height": 287
        },
        "id": "r257bEYbw2HH",
        "outputId": "b512b0df-be7d-409a-9a96-aba97fb64eda"
      },
      "execution_count": 18,
      "outputs": [
        {
          "output_type": "error",
          "ename": "KeyError",
          "evalue": "\"Key 'atakum' not present\"",
          "traceback": [
            "\u001b[0;31m---------------------------------------------------------------------------\u001b[0m",
            "\u001b[0;31mKeyError\u001b[0m                                  Traceback (most recent call last)",
            "\u001b[0;32m<ipython-input-18-739c0d05d8c6>\u001b[0m in \u001b[0;36m<cell line: 1>\u001b[0;34m()\u001b[0m\n\u001b[0;32m----> 1\u001b[0;31m \u001b[0mmodel\u001b[0m\u001b[0;34m.\u001b[0m\u001b[0mwv\u001b[0m\u001b[0;34m[\u001b[0m\u001b[0;34m\"atakum\"\u001b[0m\u001b[0;34m]\u001b[0m\u001b[0;34m\u001b[0m\u001b[0;34m\u001b[0m\u001b[0m\n\u001b[0m",
            "\u001b[0;32m/usr/local/lib/python3.10/dist-packages/gensim/models/keyedvectors.py\u001b[0m in \u001b[0;36m__getitem__\u001b[0;34m(self, key_or_keys)\u001b[0m\n\u001b[1;32m    401\u001b[0m         \"\"\"\n\u001b[1;32m    402\u001b[0m         \u001b[0;32mif\u001b[0m \u001b[0misinstance\u001b[0m\u001b[0;34m(\u001b[0m\u001b[0mkey_or_keys\u001b[0m\u001b[0;34m,\u001b[0m \u001b[0m_KEY_TYPES\u001b[0m\u001b[0;34m)\u001b[0m\u001b[0;34m:\u001b[0m\u001b[0;34m\u001b[0m\u001b[0;34m\u001b[0m\u001b[0m\n\u001b[0;32m--> 403\u001b[0;31m             \u001b[0;32mreturn\u001b[0m \u001b[0mself\u001b[0m\u001b[0;34m.\u001b[0m\u001b[0mget_vector\u001b[0m\u001b[0;34m(\u001b[0m\u001b[0mkey_or_keys\u001b[0m\u001b[0;34m)\u001b[0m\u001b[0;34m\u001b[0m\u001b[0;34m\u001b[0m\u001b[0m\n\u001b[0m\u001b[1;32m    404\u001b[0m \u001b[0;34m\u001b[0m\u001b[0m\n\u001b[1;32m    405\u001b[0m         \u001b[0;32mreturn\u001b[0m \u001b[0mvstack\u001b[0m\u001b[0;34m(\u001b[0m\u001b[0;34m[\u001b[0m\u001b[0mself\u001b[0m\u001b[0;34m.\u001b[0m\u001b[0mget_vector\u001b[0m\u001b[0;34m(\u001b[0m\u001b[0mkey\u001b[0m\u001b[0;34m)\u001b[0m \u001b[0;32mfor\u001b[0m \u001b[0mkey\u001b[0m \u001b[0;32min\u001b[0m \u001b[0mkey_or_keys\u001b[0m\u001b[0;34m]\u001b[0m\u001b[0;34m)\u001b[0m\u001b[0;34m\u001b[0m\u001b[0;34m\u001b[0m\u001b[0m\n",
            "\u001b[0;32m/usr/local/lib/python3.10/dist-packages/gensim/models/keyedvectors.py\u001b[0m in \u001b[0;36mget_vector\u001b[0;34m(self, key, norm)\u001b[0m\n\u001b[1;32m    444\u001b[0m \u001b[0;34m\u001b[0m\u001b[0m\n\u001b[1;32m    445\u001b[0m         \"\"\"\n\u001b[0;32m--> 446\u001b[0;31m         \u001b[0mindex\u001b[0m \u001b[0;34m=\u001b[0m \u001b[0mself\u001b[0m\u001b[0;34m.\u001b[0m\u001b[0mget_index\u001b[0m\u001b[0;34m(\u001b[0m\u001b[0mkey\u001b[0m\u001b[0;34m)\u001b[0m\u001b[0;34m\u001b[0m\u001b[0;34m\u001b[0m\u001b[0m\n\u001b[0m\u001b[1;32m    447\u001b[0m         \u001b[0;32mif\u001b[0m \u001b[0mnorm\u001b[0m\u001b[0;34m:\u001b[0m\u001b[0;34m\u001b[0m\u001b[0;34m\u001b[0m\u001b[0m\n\u001b[1;32m    448\u001b[0m             \u001b[0mself\u001b[0m\u001b[0;34m.\u001b[0m\u001b[0mfill_norms\u001b[0m\u001b[0;34m(\u001b[0m\u001b[0;34m)\u001b[0m\u001b[0;34m\u001b[0m\u001b[0;34m\u001b[0m\u001b[0m\n",
            "\u001b[0;32m/usr/local/lib/python3.10/dist-packages/gensim/models/keyedvectors.py\u001b[0m in \u001b[0;36mget_index\u001b[0;34m(self, key, default)\u001b[0m\n\u001b[1;32m    418\u001b[0m             \u001b[0;32mreturn\u001b[0m \u001b[0mdefault\u001b[0m\u001b[0;34m\u001b[0m\u001b[0;34m\u001b[0m\u001b[0m\n\u001b[1;32m    419\u001b[0m         \u001b[0;32melse\u001b[0m\u001b[0;34m:\u001b[0m\u001b[0;34m\u001b[0m\u001b[0;34m\u001b[0m\u001b[0m\n\u001b[0;32m--> 420\u001b[0;31m             \u001b[0;32mraise\u001b[0m \u001b[0mKeyError\u001b[0m\u001b[0;34m(\u001b[0m\u001b[0;34mf\"Key '{key}' not present\"\u001b[0m\u001b[0;34m)\u001b[0m\u001b[0;34m\u001b[0m\u001b[0;34m\u001b[0m\u001b[0m\n\u001b[0m\u001b[1;32m    421\u001b[0m \u001b[0;34m\u001b[0m\u001b[0m\n\u001b[1;32m    422\u001b[0m     \u001b[0;32mdef\u001b[0m \u001b[0mget_vector\u001b[0m\u001b[0;34m(\u001b[0m\u001b[0mself\u001b[0m\u001b[0;34m,\u001b[0m \u001b[0mkey\u001b[0m\u001b[0;34m,\u001b[0m \u001b[0mnorm\u001b[0m\u001b[0;34m=\u001b[0m\u001b[0;32mFalse\u001b[0m\u001b[0;34m)\u001b[0m\u001b[0;34m:\u001b[0m\u001b[0;34m\u001b[0m\u001b[0;34m\u001b[0m\u001b[0m\n",
            "\u001b[0;31mKeyError\u001b[0m: \"Key 'atakum' not present\""
          ]
        }
      ]
    },
    {
      "cell_type": "code",
      "source": [
        "model.wv.most_similar(\"samsun\")"
      ],
      "metadata": {
        "colab": {
          "base_uri": "https://localhost:8080/"
        },
        "id": "wXLqPnXKw8T2",
        "outputId": "726030cb-83df-4419-a4ca-24417064244d"
      },
      "execution_count": 20,
      "outputs": [
        {
          "output_type": "execute_result",
          "data": {
            "text/plain": [
              "[('gap', 0.861132800579071),\n",
              " ('tekirdağ', 0.8396734595298767),\n",
              " ('yolculu', 0.8281273245811462),\n",
              " ('balıkesir', 0.8212180137634277),\n",
              " ('kuşadası', 0.8139795660972595),\n",
              " ('muğla', 0.8139556050300598),\n",
              " ('giresun', 0.8138068914413452),\n",
              " ('bindikleri', 0.8136529326438904),\n",
              " ('patra', 0.8122808337211609),\n",
              " ('havalandı', 0.8106662631034851)]"
            ]
          },
          "metadata": {},
          "execution_count": 20
        }
      ]
    },
    {
      "cell_type": "code",
      "source": [
        "model.wv.most_similar(\"öğretmen\")"
      ],
      "metadata": {
        "colab": {
          "base_uri": "https://localhost:8080/"
        },
        "id": "IReRsQsOxciS",
        "outputId": "699a680a-50b5-43a2-8bf2-1ece9362a8bf"
      },
      "execution_count": 22,
      "outputs": [
        {
          "output_type": "execute_result",
          "data": {
            "text/plain": [
              "[('okuldaki', 0.7739822268486023),\n",
              " ('öğretmeni', 0.7681606411933899),\n",
              " ('öğretmenin', 0.7537562251091003),\n",
              " ('erkekten', 0.715997576713562),\n",
              " ('öğrenciye', 0.7055880427360535),\n",
              " ('öğrenciyle', 0.7031122446060181),\n",
              " ('öğrenci', 0.6984686255455017),\n",
              " ('tecavüzcü', 0.6965761184692383),\n",
              " ('kreş', 0.6961989998817444),\n",
              " ('veliler', 0.6961734294891357)]"
            ]
          },
          "metadata": {},
          "execution_count": 22
        }
      ]
    },
    {
      "cell_type": "code",
      "source": [
        "model.wv.most_similar(\"not\")"
      ],
      "metadata": {
        "colab": {
          "base_uri": "https://localhost:8080/"
        },
        "id": "PJ_rfPrlxqd9",
        "outputId": "0f2acb17-441d-4b56-fdc9-3fe323311795"
      },
      "execution_count": 23,
      "outputs": [
        {
          "output_type": "execute_result",
          "data": {
            "text/plain": [
              "[('tercüme', 0.6948563456535339),\n",
              " ('yazıyı', 0.6431792974472046),\n",
              " ('peçete', 0.6319090127944946),\n",
              " ('tasdik', 0.6287675499916077),\n",
              " ('yazmayı', 0.6231768131256104),\n",
              " ('tekzip', 0.6212449669837952),\n",
              " ('ihtiva', 0.6207912564277649),\n",
              " ('çalış', 0.6197056174278259),\n",
              " ('tasnif', 0.6193894147872925),\n",
              " ('yazısını', 0.6189468502998352)]"
            ]
          },
          "metadata": {},
          "execution_count": 23
        }
      ]
    },
    {
      "cell_type": "code",
      "source": [
        "model.wv.most_similar(positive=[\"öğrenme\", \"doktor\"], negative=[\"tedavi\"], topn=5)"
      ],
      "metadata": {
        "colab": {
          "base_uri": "https://localhost:8080/"
        },
        "id": "Jv-Ze_M_yR_X",
        "outputId": "789848aa-0817-4753-8608-6e9915967b61"
      },
      "execution_count": 27,
      "outputs": [
        {
          "output_type": "execute_result",
          "data": {
            "text/plain": [
              "[('almancayı', 0.6648053526878357),\n",
              " ('psikoloji', 0.6608626842498779),\n",
              " ('inceliklerini', 0.6533471345901489),\n",
              " ('dersin', 0.6510429978370667),\n",
              " ('özenli', 0.6507148742675781)]"
            ]
          },
          "metadata": {},
          "execution_count": 27
        }
      ]
    },
    {
      "cell_type": "code",
      "source": [
        "model.wv.most_similar(positive=[\"ankara\", \"belçika\"], negative=[\"brüksel\"], topn=5)"
      ],
      "metadata": {
        "colab": {
          "base_uri": "https://localhost:8080/"
        },
        "id": "fCj21RIRyvNj",
        "outputId": "d2c5ef32-0036-4009-d40d-9ed39bb27341"
      },
      "execution_count": 28,
      "outputs": [
        {
          "output_type": "execute_result",
          "data": {
            "text/plain": [
              "[('hollanda', 0.6141901612281799),\n",
              " ('fransa', 0.6061499118804932),\n",
              " ('italya', 0.5810335278511047),\n",
              " ('danimarka', 0.5741097331047058),\n",
              " ('avusturya', 0.5722252130508423)]"
            ]
          },
          "metadata": {},
          "execution_count": 28
        }
      ]
    },
    {
      "cell_type": "code",
      "source": [
        "model.save(\"/content/drive/MyDrive/GENAI-LLM/word2vec.model\")"
      ],
      "metadata": {
        "id": "U6K3YIo3zqNp"
      },
      "execution_count": 29,
      "outputs": []
    },
    {
      "cell_type": "code",
      "source": [
        "model = Word2Vec.load(\"/content/drive/MyDrive/GENAI-LLM/word2vec.model\")"
      ],
      "metadata": {
        "id": "hVE0nhMTz3Bp"
      },
      "execution_count": null,
      "outputs": []
    },
    {
      "cell_type": "markdown",
      "source": [
        "## Glove"
      ],
      "metadata": {
        "id": "roAY8MJa0BeS"
      }
    },
    {
      "cell_type": "code",
      "source": [
        "from gensim.models import KeyedVectors\n",
        "# KeyedVectors fonksiyonunu farklı bir formattaki word embeddingleri word2vec formatına dönüştürmek için kullanıyoruz.\n",
        "\n",
        "# We use the KeyedVectors function to convert word embeddings in a different format to word2vec format."
      ],
      "metadata": {
        "id": "QbGcByoTz_xt"
      },
      "execution_count": 30,
      "outputs": []
    },
    {
      "cell_type": "code",
      "source": [
        "glove_model = \"/content/drive/MyDrive/GENAI-LLM/glove.6B.100d.txt\"\n",
        "\n",
        "model2 = KeyedVectors.load_word2vec_format(glove_model, binary=False, no_header=True)"
      ],
      "metadata": {
        "id": "8iXWqEX00ha_"
      },
      "execution_count": 37,
      "outputs": []
    },
    {
      "cell_type": "code",
      "source": [
        "model2[\"teacher\"]"
      ],
      "metadata": {
        "colab": {
          "base_uri": "https://localhost:8080/"
        },
        "id": "ngY3i9jG040-",
        "outputId": "0c1e3e2b-5db0-4cf3-e77d-269c78160382"
      },
      "execution_count": 38,
      "outputs": [
        {
          "output_type": "execute_result",
          "data": {
            "text/plain": [
              "array([ 0.44374 ,  0.67311 , -0.51096 ,  0.20882 , -0.10662 ,  0.55098 ,\n",
              "       -0.035593,  0.25126 , -0.32789 ,  1.0762  , -0.49637 , -0.4298  ,\n",
              "        0.36764 ,  0.57894 , -0.25027 , -0.41021 ,  0.086998, -0.16843 ,\n",
              "       -0.85764 ,  1.0404  , -1.0314  ,  0.095147,  0.30729 ,  0.12348 ,\n",
              "        0.22745 , -0.52157 , -0.72478 , -1.0843  ,  0.035966,  0.62985 ,\n",
              "       -1.0991  ,  0.67161 ,  0.33797 ,  0.14551 , -0.90049 , -0.064415,\n",
              "       -0.75247 ,  0.21741 ,  0.51594 , -0.46291 , -0.77598 ,  0.40705 ,\n",
              "        0.1889  , -0.43402 ,  0.23202 , -0.081453, -0.3882  , -0.34444 ,\n",
              "        0.080225, -0.28274 , -0.38869 , -0.58152 , -0.25558 ,  1.0027  ,\n",
              "       -0.11114 , -1.5402  , -0.16761 , -0.26558 ,  0.9325  ,  0.069397,\n",
              "        0.96618 ,  0.15449 , -0.22905 , -0.1761  ,  0.13225 , -0.55741 ,\n",
              "        0.9234  , -0.04845 ,  0.50202 ,  1.0144  , -0.1256  ,  0.30486 ,\n",
              "        0.090808,  0.17642 , -0.23146 ,  0.68386 ,  0.37269 , -0.37316 ,\n",
              "       -0.025728, -1.0279  , -0.33142 ,  0.036028, -0.24925 , -1.4405  ,\n",
              "       -1.6267  ,  0.082284, -0.080153, -0.50802 ,  0.031885, -0.60546 ,\n",
              "        0.2908  ,  0.036842,  0.55328 ,  0.66784 , -0.42574 ,  0.53331 ,\n",
              "        0.053644, -0.66522 , -0.10012 , -0.17729 ], dtype=float32)"
            ]
          },
          "metadata": {},
          "execution_count": 38
        }
      ]
    },
    {
      "cell_type": "code",
      "source": [
        "model2.most_similar(\"ankara\")"
      ],
      "metadata": {
        "colab": {
          "base_uri": "https://localhost:8080/"
        },
        "id": "_U8UWcpC3rEw",
        "outputId": "75947803-6270-4167-b2e1-8502ad911196"
      },
      "execution_count": 39,
      "outputs": [
        {
          "output_type": "execute_result",
          "data": {
            "text/plain": [
              "[('turkey', 0.7512096166610718),\n",
              " ('istanbul', 0.6787630319595337),\n",
              " ('turkish', 0.6690374612808228),\n",
              " ('damascus', 0.6372509002685547),\n",
              " ('tbilisi', 0.6322181820869446),\n",
              " ('erdogan', 0.6258037090301514),\n",
              " ('moscow', 0.6217040419578552),\n",
              " ('brussels', 0.6181437969207764),\n",
              " ('skopje', 0.6164302229881287),\n",
              " ('cyprus', 0.606403112411499)]"
            ]
          },
          "metadata": {},
          "execution_count": 39
        }
      ]
    },
    {
      "cell_type": "code",
      "source": [
        "model2.most_similar(\"teacher\")"
      ],
      "metadata": {
        "colab": {
          "base_uri": "https://localhost:8080/"
        },
        "id": "lTS6rf7q3rHQ",
        "outputId": "4a0f6fd1-c971-4c3b-b1db-20bd4d73d000"
      },
      "execution_count": 40,
      "outputs": [
        {
          "output_type": "execute_result",
          "data": {
            "text/plain": [
              "[('student', 0.8083398938179016),\n",
              " ('school', 0.7545564770698547),\n",
              " ('teaching', 0.7521439790725708),\n",
              " ('taught', 0.741184651851654),\n",
              " ('teachers', 0.7291542887687683),\n",
              " ('graduate', 0.7134961485862732),\n",
              " ('instructor', 0.7077120542526245),\n",
              " ('students', 0.6828974485397339),\n",
              " ('teaches', 0.6552315354347229),\n",
              " ('education', 0.6528989672660828)]"
            ]
          },
          "metadata": {},
          "execution_count": 40
        }
      ]
    },
    {
      "cell_type": "code",
      "source": [
        "model2.most_similar(\"doctor\")"
      ],
      "metadata": {
        "colab": {
          "base_uri": "https://localhost:8080/"
        },
        "id": "m2xVuIm83rKA",
        "outputId": "6b12da93-9337-453e-ef4b-8e2cce6a9179"
      },
      "execution_count": 41,
      "outputs": [
        {
          "output_type": "execute_result",
          "data": {
            "text/plain": [
              "[('physician', 0.7673240303993225),\n",
              " ('nurse', 0.75215083360672),\n",
              " ('dr.', 0.7175194025039673),\n",
              " ('doctors', 0.7080884575843811),\n",
              " ('patient', 0.7074184417724609),\n",
              " ('medical', 0.6995992660522461),\n",
              " ('surgeon', 0.6905338168144226),\n",
              " ('hospital', 0.6900930404663086),\n",
              " ('psychiatrist', 0.658909797668457),\n",
              " ('dentist', 0.6447421312332153)]"
            ]
          },
          "metadata": {},
          "execution_count": 41
        }
      ]
    },
    {
      "cell_type": "code",
      "source": [
        "model2.most_similar(positive=[\"woman\", \"son\"], negative=[\"man\"], topn=1)"
      ],
      "metadata": {
        "colab": {
          "base_uri": "https://localhost:8080/"
        },
        "id": "FPy9ntzV5WrH",
        "outputId": "987a3e3a-812b-4016-db1c-65abaefb59e0"
      },
      "execution_count": 42,
      "outputs": [
        {
          "output_type": "execute_result",
          "data": {
            "text/plain": [
              "[('daughter', 0.9090957641601562)]"
            ]
          },
          "metadata": {},
          "execution_count": 42
        }
      ]
    },
    {
      "cell_type": "code",
      "source": [
        "model2.most_similar(positive=[\"woman\", \"father\"], negative=[\"man\"], topn=1)"
      ],
      "metadata": {
        "colab": {
          "base_uri": "https://localhost:8080/"
        },
        "id": "Rggzpdmc5ouB",
        "outputId": "6d9bb306-c7bd-41ba-aa82-33aabbd6ae25"
      },
      "execution_count": 43,
      "outputs": [
        {
          "output_type": "execute_result",
          "data": {
            "text/plain": [
              "[('mother', 0.9024619460105896)]"
            ]
          },
          "metadata": {},
          "execution_count": 43
        }
      ]
    },
    {
      "cell_type": "code",
      "source": [
        "model2.most_similar(positive=[\"woman\", \"uncle\"], negative=[\"man\"], topn=1)"
      ],
      "metadata": {
        "colab": {
          "base_uri": "https://localhost:8080/"
        },
        "id": "Jo9DRXLw6CAF",
        "outputId": "7d989201-dde1-4fd7-95c7-a90faaf774b9"
      },
      "execution_count": 44,
      "outputs": [
        {
          "output_type": "execute_result",
          "data": {
            "text/plain": [
              "[('aunt', 0.8368030190467834)]"
            ]
          },
          "metadata": {},
          "execution_count": 44
        }
      ]
    },
    {
      "cell_type": "code",
      "source": [
        "model2.most_similar(positive=[\"ankara\", \"germany\"], negative=[\"berlin\"], topn=1)"
      ],
      "metadata": {
        "colab": {
          "base_uri": "https://localhost:8080/"
        },
        "id": "IFlAhr4b6HiT",
        "outputId": "526978d2-6835-4b67-f536-fbb77e223202"
      },
      "execution_count": 45,
      "outputs": [
        {
          "output_type": "execute_result",
          "data": {
            "text/plain": [
              "[('turkey', 0.81471186876297)]"
            ]
          },
          "metadata": {},
          "execution_count": 45
        }
      ]
    },
    {
      "cell_type": "code",
      "source": [
        "model2.most_similar(positive=[\"teach\", \"doctor\"], negative=[\"treat\"], topn=1)"
      ],
      "metadata": {
        "colab": {
          "base_uri": "https://localhost:8080/"
        },
        "id": "1xVTCYtH6Wyl",
        "outputId": "a9038535-01c6-4d2c-9055-98bd6d7ef105"
      },
      "execution_count": 46,
      "outputs": [
        {
          "output_type": "execute_result",
          "data": {
            "text/plain": [
              "[('teacher', 0.7610154151916504)]"
            ]
          },
          "metadata": {},
          "execution_count": 46
        }
      ]
    },
    {
      "cell_type": "code",
      "source": [],
      "metadata": {
        "id": "-_p5w19L6llG"
      },
      "execution_count": null,
      "outputs": []
    }
  ]
}